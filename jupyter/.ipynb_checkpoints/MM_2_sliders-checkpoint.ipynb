{
 "cells": [
  {
   "cell_type": "code",
   "execution_count": 1,
   "metadata": {
    "scrolled": false
   },
   "outputs": [
    {
     "data": {
      "application/vnd.jupyter.widget-view+json": {
       "model_id": "6e27d716338f467cadb9d36f91989cb3",
       "version_major": 2,
       "version_minor": 0
      },
      "text/plain": [
       "VBox(children=(FloatSlider(value=2.0, continuous_update=False, description='a:', max=4.0, min=1.0, step=0.01),…"
      ]
     },
     "metadata": {},
     "output_type": "display_data"
    }
   ],
   "source": [
    "import plotly.graph_objs as go\n",
    "import numpy as np\n",
    "#from ipywidgets import interact, interactive\n",
    "from ipywidgets import widgets\n",
    "from IPython.display import display\n",
    "import plotly.io as pio\n",
    "pio.renderers.default = \"browser\"\n",
    "\n",
    "aSlider = widgets.FloatSlider(\n",
    "    value=2.0,\n",
    "    min=1.0,\n",
    "    max=4.0,\n",
    "    step=0.01,\n",
    "    description='a:',\n",
    "    continuous_update=False\n",
    ")\n",
    "\n",
    "bSlider = widgets.FloatSlider(\n",
    "    value=1.0,\n",
    "    min=0.0,\n",
    "    max=10.0,\n",
    "    step=0.01,\n",
    "    description='b:',\n",
    "    continuous_update=True\n",
    ")\n",
    "\n",
    "colorDropdown = widgets.Dropdown(\n",
    "    description='Color:',\n",
    "    value='blue',\n",
    "    options=['red', 'blue', 'green']\n",
    ")\n",
    "\n",
    "fig = go.FigureWidget()\n",
    "#fig.show()\n",
    "scattf = fig.add_scatter()\n",
    "scatt = scattf.data[-1]\n",
    "\n",
    "xs=np.linspace(0, 6, 100)\n",
    "\n",
    "def response(change):\n",
    "    with fig.batch_update():\n",
    "        fig.data[0].x=xs\n",
    "        fig.data[0].y=np.sin(aSlider.value*xs-bSlider.value)\n",
    "        fig.data[0].line.color=colorDropdown.value\n",
    "        fig.layout.xaxis.title = 'whatever'\n",
    "\n",
    "aSlider.observe(response, names=\"value\")\n",
    "bSlider.observe(response, names=\"value\")\n",
    "colorDropdown.observe(response, names=\"value\")\n",
    "\n",
    "response(\"doesn't matter what I send here, just triggering\") # MUST be before widgets.VBox - if response(x) is last, NOTHING is drawn! \n",
    "\n",
    "widgets.VBox([aSlider,\n",
    "              bSlider,\n",
    "              colorDropdown,\n",
    "              fig])"
   ]
  },
  {
   "cell_type": "code",
   "execution_count": 2,
   "metadata": {},
   "outputs": [
    {
     "data": {
      "application/vnd.jupyter.widget-view+json": {
       "model_id": "821c4fafca4f494c80f240b4e07ffd05",
       "version_major": 2,
       "version_minor": 0
      },
      "text/plain": [
       "VBox(children=(FloatSlider(value=0.3, continuous_update=False, description='k1 value: ', max=2.0, min=0.1, ste…"
      ]
     },
     "metadata": {},
     "output_type": "display_data"
    }
   ],
   "source": [
    "import plotly.graph_objs as go\n",
    "import numpy as np\n",
    "#from ipywidgets import interact, interactive\n",
    "from ipywidgets import widgets\n",
    "from IPython.display import display\n",
    "from scipy.integrate import odeint\n",
    "import plotly.io as pio\n",
    "pio.renderers.default = \"browser\"\n",
    "\n",
    "def dxdt(x,t,k1,k2,e0,a):\n",
    "    return k1*a*(e0-x) - k2*x\n",
    "\n",
    "x0 = 0\n",
    "e0, a = 0.001, 1.\n",
    "k1_init, k2_init = 0.3, 0.1\n",
    "\n",
    "t = np.arange(0,10,0.01)\n",
    "sol = odeint(dxdt, x0, t, args=(k1_init, k2_init, e0, a))\n",
    "sol = np.concatenate(sol)\n",
    "enz_conc_init = e0 - sol\n",
    "# print(sol)\n",
    "\n",
    "def fun(t,k1,k2,e0,a):\n",
    "    sol = odeint(dxdt, x0, t, args=(k1, k2, e0, a))\n",
    "    sol = np.concatenate(sol)\n",
    "    enz_conc = e0 - sol\n",
    "    return enz_conc\n",
    "\n",
    "fig = go.FigureWidget()\n",
    "#fig.show()\n",
    "scattf = fig.add_scatter()\n",
    "scatt = scattf.data[0]\n",
    "\n",
    "k1_Slider = widgets.FloatSlider(\n",
    "    value=0.3,\n",
    "    min=0.1,\n",
    "    max=2,\n",
    "    step=0.01,\n",
    "    description='k1 value: ',\n",
    "    continuous_update=False\n",
    ")\n",
    "\n",
    "k2_Slider = widgets.FloatSlider(\n",
    "    value=0.1,\n",
    "    min=0.0,\n",
    "    max=2,\n",
    "    step=0.01,\n",
    "    description='k2 value: ',\n",
    "    continuous_update=True\n",
    ")\n",
    "\n",
    "colorDropdown = widgets.Dropdown(\n",
    "    description='Color:',\n",
    "    value='blue',\n",
    "    options=['red', 'blue', 'green']\n",
    ")\n",
    "\n",
    "\n",
    "def response(change):\n",
    "    with fig.batch_update():\n",
    "        k1 = k1_Slider.value\n",
    "        k2 = k2_Slider.value\n",
    "        fig.data[0].x = t\n",
    "        fig.data[0].y = fun(t,k1,k2,e0,a)\n",
    "        fig.data[0].line.color = colorDropdown.value\n",
    "        fig.layout.xaxis.title = 'Michaelis-Menten equation' \n",
    "\n",
    "k1_Slider.observe(response, names = \"value\")\n",
    "k2_Slider.observe(response, names = \"value\")\n",
    "colorDropdown.observe(response, names = \"value\")\n",
    "\n",
    "response(\"change\") # MUST be before widgets.VBox - if response(x) is last, NOTHING is drawn! \n",
    "\n",
    "widgets.VBox([k1_Slider,\n",
    "              k2_Slider,\n",
    "              colorDropdown,\n",
    "              fig])"
   ]
  },
  {
   "cell_type": "code",
   "execution_count": 3,
   "metadata": {},
   "outputs": [
    {
     "data": {
      "image/png": "[encoded data removed]",
      "text/plain": [
       "<Figure size 432x288 with 1 Axes>"
      ]
     },
     "metadata": {},
     "output_type": "display_data"
    }
   ],
   "source": []
  }
 ],
 "metadata": {
  "kernelspec": {
   "display_name": "Python 3",
   "language": "python",
   "name": "python3"
  },
  "language_info": {
   "codemirror_mode": {
    "name": "ipython",
    "version": 3
   },
   "file_extension": ".py",
   "mimetype": "text/x-python",
   "name": "python",
   "nbconvert_exporter": "python",
   "pygments_lexer": "ipython3",
   "version": "3.8.5"
  }
 },
 "nbformat": 4,
 "nbformat_minor": 5
}
