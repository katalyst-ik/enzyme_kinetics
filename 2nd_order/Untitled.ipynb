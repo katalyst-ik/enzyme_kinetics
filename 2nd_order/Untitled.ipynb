{
 "cells": [
  {
   "cell_type": "code",
   "execution_count": 14,
   "metadata": {},
   "outputs": [
    {
     "name": "stderr",
     "output_type": "stream",
     "text": [
      "<ipython-input-14-21c7bd7c2dd7>:16: RuntimeWarning: overflow encountered in double_scalars\n",
      "  f2 = -k*A*B\n"
     ]
    },
    {
     "data": {
      "image/png": "[encoded data removed]",
      "text/plain": [
       "<Figure size 432x288 with 1 Axes>"
      ]
     },
     "metadata": {
      "needs_background": "light"
     },
     "output_type": "display_data"
    }
   ],
   "source": [
    "# -*- coding: utf-8 -*-\n",
    "\"\"\"\n",
    "Created on Fri Jul 23 16:56:35 2021\n",
    "\n",
    "@author: Meghna\n",
    "\"\"\"\n",
    "\n",
    "\n",
    "import numpy as np\n",
    "import matplotlib.pyplot as plt\n",
    "\n",
    "def f(r,t):  #change to r where r[0] = e, r[1] = a\n",
    "    A = r[0]\n",
    "    B = r[1] #we'll have to get B initial value from the slider\n",
    "    k = 0.3 #we'll have to get K value from slider\n",
    "    f2 = -k*A*B\n",
    "    return(np.array([f2],float))\n",
    "\n",
    "r = np.array([10,10],float) #intial values of A and B, again \n",
    "                            #we'll have to get B initial value from the slider and do the calcs\n",
    "                            \n",
    "#different a and b values, these are the start and stop values in your code\n",
    "a = 1\n",
    "b = 0.5\n",
    "n= 10000\n",
    "h = (b-a)/n\n",
    "\n",
    "tlist= np.arange(a,b,h) #list for time basically xhist in your code\n",
    "A_list = [] #list for storing all the A values basically yhist in your code\n",
    "B_list = [] #list for storing all the A values basically yhist in your code\n",
    "\n",
    "for t in tlist:\n",
    "    A_list.append(r[0])\n",
    "    B_list.append(r[1])\n",
    "    k_1 = h*f(r, t)\n",
    "    k_2 = h*f((r+ 0.5*k_1),(t+ 0.5*h))\n",
    "    k_3 = h*f((r+ 0.5*k_2),(t+ 0.5*h))\n",
    "    k_4 = h*f((r+k_3),(t+h))\n",
    "    r = r + ((k_1+ 2*k_2 + 2*k_3 + k_4)/6) \n",
    "    \n",
    "A_list_np = np.array(A_list)\n",
    "B_list_np = np.array(B_list)\n",
    "conc_list = A_list_np* B_list_np\n",
    "plt.figure(1)\n",
    "plt.plot(tlist, conc_list)\n",
    "plt.title(\"second order\")\n",
    "plt.xlabel(\"t\")\n",
    "plt.ylabel(\"reactant concs\")\n",
    "plt.show()"
   ]
  }
 ],
 "metadata": {
  "kernelspec": {
   "display_name": "Python 3",
   "language": "python",
   "name": "python3"
  },
  "language_info": {
   "codemirror_mode": {
    "name": "ipython",
    "version": 3
   },
   "file_extension": ".py",
   "mimetype": "text/x-python",
   "name": "python",
   "nbconvert_exporter": "python",
   "pygments_lexer": "ipython3",
   "version": "3.8.5"
  }
 },
 "nbformat": 4,
 "nbformat_minor": 4
}
